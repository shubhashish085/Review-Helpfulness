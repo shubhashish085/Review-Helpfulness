{
 "cells": [
  {
   "cell_type": "code",
   "execution_count": 1,
   "id": "163c8f5c-8598-40c3-b9d9-2e4e840d06b5",
   "metadata": {},
   "outputs": [],
   "source": [
    "import pandas as pd"
   ]
  },
  {
   "cell_type": "code",
   "execution_count": 2,
   "id": "f1122fbe-8de7-4f33-87ce-38ce53ccb9e2",
   "metadata": {},
   "outputs": [],
   "source": [
    "df = pd.read_csv('kmeans_binary_labeled_helpfulness_data_with_modified_review.csv')"
   ]
  },
  {
   "cell_type": "code",
   "execution_count": 3,
   "id": "20bd91fe-cd4a-4cf7-8515-67d203140cdc",
   "metadata": {},
   "outputs": [
    {
     "data": {
      "text/html": [
       "<div>\n",
       "<style scoped>\n",
       "    .dataframe tbody tr th:only-of-type {\n",
       "        vertical-align: middle;\n",
       "    }\n",
       "\n",
       "    .dataframe tbody tr th {\n",
       "        vertical-align: top;\n",
       "    }\n",
       "\n",
       "    .dataframe thead th {\n",
       "        text-align: right;\n",
       "    }\n",
       "</style>\n",
       "<table border=\"1\" class=\"dataframe\">\n",
       "  <thead>\n",
       "    <tr style=\"text-align: right;\">\n",
       "      <th></th>\n",
       "      <th>Unnamed: 0</th>\n",
       "      <th>apartmentName</th>\n",
       "      <th>url</th>\n",
       "      <th>rating</th>\n",
       "      <th>review</th>\n",
       "      <th>zip</th>\n",
       "      <th>propertyManager</th>\n",
       "      <th>minRent</th>\n",
       "      <th>maxRent</th>\n",
       "      <th>minSqft</th>\n",
       "      <th>maxSqft</th>\n",
       "      <th>avgRating</th>\n",
       "      <th>helpfulness</th>\n",
       "      <th>days_since_review</th>\n",
       "      <th>state</th>\n",
       "      <th>city</th>\n",
       "      <th>calculated_score</th>\n",
       "      <th>kmeans_label</th>\n",
       "      <th>modified_review</th>\n",
       "    </tr>\n",
       "  </thead>\n",
       "  <tbody>\n",
       "    <tr>\n",
       "      <th>0</th>\n",
       "      <td>0</td>\n",
       "      <td>Union 505</td>\n",
       "      <td>https://www.apartments.com/union-505-albuquerq...</td>\n",
       "      <td>5.0</td>\n",
       "      <td>A very welcoming community, convenient locatio...</td>\n",
       "      <td>NM 87102</td>\n",
       "      <td>https://www.apartments.com/pmc/greystar/dv0gtnl/</td>\n",
       "      <td>850</td>\n",
       "      <td>2662</td>\n",
       "      <td>324.0</td>\n",
       "      <td>755.0</td>\n",
       "      <td>4.0</td>\n",
       "      <td>0</td>\n",
       "      <td>67.0</td>\n",
       "      <td>NM</td>\n",
       "      <td>ALBUQUERQUE</td>\n",
       "      <td>0.0</td>\n",
       "      <td>0</td>\n",
       "      <td>State NM and  City ALBUQUERQUE. A very welcomi...</td>\n",
       "    </tr>\n",
       "    <tr>\n",
       "      <th>1</th>\n",
       "      <td>1</td>\n",
       "      <td>Union 505</td>\n",
       "      <td>https://www.apartments.com/union-505-albuquerq...</td>\n",
       "      <td>3.0</td>\n",
       "      <td>Union 505 is in a great location for Albuquerq...</td>\n",
       "      <td>NM 87102</td>\n",
       "      <td>https://www.apartments.com/pmc/greystar/dv0gtnl/</td>\n",
       "      <td>850</td>\n",
       "      <td>2662</td>\n",
       "      <td>324.0</td>\n",
       "      <td>755.0</td>\n",
       "      <td>4.0</td>\n",
       "      <td>0</td>\n",
       "      <td>71.0</td>\n",
       "      <td>NM</td>\n",
       "      <td>ALBUQUERQUE</td>\n",
       "      <td>0.0</td>\n",
       "      <td>0</td>\n",
       "      <td>State NM and  City ALBUQUERQUE. Union 505 is i...</td>\n",
       "    </tr>\n",
       "    <tr>\n",
       "      <th>2</th>\n",
       "      <td>2</td>\n",
       "      <td>Union 505</td>\n",
       "      <td>https://www.apartments.com/union-505-albuquerq...</td>\n",
       "      <td>4.0</td>\n",
       "      <td>My Experience here at union505 is good only th...</td>\n",
       "      <td>NM 87102</td>\n",
       "      <td>https://www.apartments.com/pmc/greystar/dv0gtnl/</td>\n",
       "      <td>850</td>\n",
       "      <td>2662</td>\n",
       "      <td>324.0</td>\n",
       "      <td>755.0</td>\n",
       "      <td>4.0</td>\n",
       "      <td>2</td>\n",
       "      <td>124.0</td>\n",
       "      <td>NM</td>\n",
       "      <td>ALBUQUERQUE</td>\n",
       "      <td>1.0</td>\n",
       "      <td>1</td>\n",
       "      <td>State NM and  City ALBUQUERQUE. My Experience ...</td>\n",
       "    </tr>\n",
       "    <tr>\n",
       "      <th>3</th>\n",
       "      <td>3</td>\n",
       "      <td>Union 505</td>\n",
       "      <td>https://www.apartments.com/union-505-albuquerq...</td>\n",
       "      <td>4.0</td>\n",
       "      <td>I love the apartment. Its very cozy and straig...</td>\n",
       "      <td>NM 87102</td>\n",
       "      <td>https://www.apartments.com/pmc/greystar/dv0gtnl/</td>\n",
       "      <td>850</td>\n",
       "      <td>2662</td>\n",
       "      <td>324.0</td>\n",
       "      <td>755.0</td>\n",
       "      <td>4.0</td>\n",
       "      <td>2</td>\n",
       "      <td>129.0</td>\n",
       "      <td>NM</td>\n",
       "      <td>ALBUQUERQUE</td>\n",
       "      <td>1.0</td>\n",
       "      <td>1</td>\n",
       "      <td>State NM and  City ALBUQUERQUE. I love the apa...</td>\n",
       "    </tr>\n",
       "    <tr>\n",
       "      <th>4</th>\n",
       "      <td>4</td>\n",
       "      <td>Union 505</td>\n",
       "      <td>https://www.apartments.com/union-505-albuquerq...</td>\n",
       "      <td>4.0</td>\n",
       "      <td>The apartments are very spacious. The leasing ...</td>\n",
       "      <td>NM 87102</td>\n",
       "      <td>https://www.apartments.com/pmc/greystar/dv0gtnl/</td>\n",
       "      <td>850</td>\n",
       "      <td>2662</td>\n",
       "      <td>324.0</td>\n",
       "      <td>755.0</td>\n",
       "      <td>4.0</td>\n",
       "      <td>2</td>\n",
       "      <td>132.0</td>\n",
       "      <td>NM</td>\n",
       "      <td>ALBUQUERQUE</td>\n",
       "      <td>1.0</td>\n",
       "      <td>1</td>\n",
       "      <td>State NM and  City ALBUQUERQUE. The apartments...</td>\n",
       "    </tr>\n",
       "  </tbody>\n",
       "</table>\n",
       "</div>"
      ],
      "text/plain": [
       "   Unnamed: 0 apartmentName  \\\n",
       "0           0     Union 505   \n",
       "1           1     Union 505   \n",
       "2           2     Union 505   \n",
       "3           3     Union 505   \n",
       "4           4     Union 505   \n",
       "\n",
       "                                                 url  rating  \\\n",
       "0  https://www.apartments.com/union-505-albuquerq...     5.0   \n",
       "1  https://www.apartments.com/union-505-albuquerq...     3.0   \n",
       "2  https://www.apartments.com/union-505-albuquerq...     4.0   \n",
       "3  https://www.apartments.com/union-505-albuquerq...     4.0   \n",
       "4  https://www.apartments.com/union-505-albuquerq...     4.0   \n",
       "\n",
       "                                              review       zip  \\\n",
       "0  A very welcoming community, convenient locatio...  NM 87102   \n",
       "1  Union 505 is in a great location for Albuquerq...  NM 87102   \n",
       "2  My Experience here at union505 is good only th...  NM 87102   \n",
       "3  I love the apartment. Its very cozy and straig...  NM 87102   \n",
       "4  The apartments are very spacious. The leasing ...  NM 87102   \n",
       "\n",
       "                                    propertyManager minRent maxRent  minSqft  \\\n",
       "0  https://www.apartments.com/pmc/greystar/dv0gtnl/     850    2662    324.0   \n",
       "1  https://www.apartments.com/pmc/greystar/dv0gtnl/     850    2662    324.0   \n",
       "2  https://www.apartments.com/pmc/greystar/dv0gtnl/     850    2662    324.0   \n",
       "3  https://www.apartments.com/pmc/greystar/dv0gtnl/     850    2662    324.0   \n",
       "4  https://www.apartments.com/pmc/greystar/dv0gtnl/     850    2662    324.0   \n",
       "\n",
       "   maxSqft  avgRating  helpfulness  days_since_review state         city  \\\n",
       "0    755.0        4.0            0               67.0    NM  ALBUQUERQUE   \n",
       "1    755.0        4.0            0               71.0    NM  ALBUQUERQUE   \n",
       "2    755.0        4.0            2              124.0    NM  ALBUQUERQUE   \n",
       "3    755.0        4.0            2              129.0    NM  ALBUQUERQUE   \n",
       "4    755.0        4.0            2              132.0    NM  ALBUQUERQUE   \n",
       "\n",
       "   calculated_score  kmeans_label  \\\n",
       "0               0.0             0   \n",
       "1               0.0             0   \n",
       "2               1.0             1   \n",
       "3               1.0             1   \n",
       "4               1.0             1   \n",
       "\n",
       "                                     modified_review  \n",
       "0  State NM and  City ALBUQUERQUE. A very welcomi...  \n",
       "1  State NM and  City ALBUQUERQUE. Union 505 is i...  \n",
       "2  State NM and  City ALBUQUERQUE. My Experience ...  \n",
       "3  State NM and  City ALBUQUERQUE. I love the apa...  \n",
       "4  State NM and  City ALBUQUERQUE. The apartments...  "
      ]
     },
     "execution_count": 3,
     "metadata": {},
     "output_type": "execute_result"
    }
   ],
   "source": [
    "df.head()"
   ]
  },
  {
   "cell_type": "code",
   "execution_count": 4,
   "id": "ef24dc0b-6843-4214-97b7-1c3aae54a22d",
   "metadata": {},
   "outputs": [],
   "source": [
    "df.drop(columns = ['Unnamed: 0'], inplace = True)"
   ]
  },
  {
   "cell_type": "code",
   "execution_count": 5,
   "id": "46f432b0-7f5e-4dc9-aeb8-4933e8cadadc",
   "metadata": {},
   "outputs": [],
   "source": [
    "df['review_word_count'] = df['review'].str.split().str.len()"
   ]
  },
  {
   "cell_type": "code",
   "execution_count": 6,
   "id": "25215ef5-cf38-46e9-9bbb-f4941d93986e",
   "metadata": {},
   "outputs": [],
   "source": [
    "from sklearn.model_selection import train_test_split"
   ]
  },
  {
   "cell_type": "code",
   "execution_count": 7,
   "id": "ce1d9fb1-cf6c-4676-8244-b498efaca487",
   "metadata": {},
   "outputs": [],
   "source": [
    "train_x, test_x, train_labels, test_labels = train_test_split(df['review_word_count'], df['kmeans_label'], test_size=0.2, random_state=42)"
   ]
  },
  {
   "cell_type": "code",
   "execution_count": 8,
   "id": "58a1cccf-d7b3-4486-a087-abe8668f21e0",
   "metadata": {},
   "outputs": [],
   "source": [
    "max_word_count = train_x.max()"
   ]
  },
  {
   "cell_type": "code",
   "execution_count": 9,
   "id": "7e15a220-7bd6-4656-9283-7ebe056cb686",
   "metadata": {},
   "outputs": [],
   "source": [
    "min_word_count = train_x.min()"
   ]
  },
  {
   "cell_type": "code",
   "execution_count": 10,
   "id": "64cc8bb1-97e2-4d09-b416-368d1ca07f13",
   "metadata": {},
   "outputs": [
    {
     "name": "stdout",
     "output_type": "stream",
     "text": [
      "1097\n",
      "1\n"
     ]
    }
   ],
   "source": [
    "print(max_word_count)\n",
    "print(min_word_count)"
   ]
  },
  {
   "cell_type": "code",
   "execution_count": 11,
   "id": "8a7e583c-0685-4a1a-8155-3c4ca57e179d",
   "metadata": {},
   "outputs": [],
   "source": [
    "quantile25 = train_x.quantile(0.25)"
   ]
  },
  {
   "cell_type": "code",
   "execution_count": 12,
   "id": "5f09878b-1058-4eaf-94f5-f7be6b5bcc5d",
   "metadata": {},
   "outputs": [],
   "source": [
    "quantile50 = train_x.quantile(0.5)"
   ]
  },
  {
   "cell_type": "code",
   "execution_count": 13,
   "id": "e2716d84-80d8-4354-a19d-2282f569f30a",
   "metadata": {},
   "outputs": [],
   "source": [
    "quantile75 = train_x.quantile(0.75)"
   ]
  },
  {
   "cell_type": "code",
   "execution_count": 14,
   "id": "bdd74740-023a-4a10-9366-01889577c4b0",
   "metadata": {},
   "outputs": [
    {
     "name": "stdout",
     "output_type": "stream",
     "text": [
      "[5424, 2814, 4570, 3659, 3718, 4294, 2758, 5329]\n"
     ]
    }
   ],
   "source": [
    "count_list = [0, 0, 0, 0, 0, 0, 0, 0]\n",
    "\n",
    "for i in (list(train_x.index)):\n",
    "    if(train_x.at[i] <= quantile25):\n",
    "        count_list[0 + int(train_labels.at[i])] += 1\n",
    "    elif(train_x.at[i] <= quantile50):\n",
    "        count_list[2 + int(train_labels.at[i])] += 1\n",
    "    elif(train_x.at[i] <= quantile75):\n",
    "        count_list[4 + int(train_labels.at[i])] += 1\n",
    "    else:\n",
    "        count_list[6 + int(train_labels.at[i])] += 1\n",
    "\n",
    "print(count_list)   \n",
    "        "
   ]
  },
  {
   "cell_type": "code",
   "execution_count": 15,
   "id": "a1bcd871-a4e9-417e-ba58-f46eb5161d92",
   "metadata": {},
   "outputs": [
    {
     "name": "stdout",
     "output_type": "stream",
     "text": [
      "For Quantile  0.1  - 0 :  2305   1:  15012  Misclassified :  15249\n",
      "For Quantile  0.2  - 0 :  4401   1:  13852  Misclassified :  14313\n",
      "For Quantile  0.3  - 0 :  6392   1:  12698  Misclassified :  13476\n",
      "For Quantile  0.4  - 0 :  8252   1:  11205  Misclassified :  13109\n",
      "For Quantile  0.5  - 0 :  9994   1:  9623  Misclassified :  12949\n",
      "For Quantile  0.6  - 0 :  11614   1:  8050  Misclassified :  12902\n",
      "For Quantile  0.7  - 0 :  13060   1:  6300  Misclassified :  13206\n",
      "For Quantile  0.8  - 0 :  14309   1:  4312  Misclassified :  13945\n",
      "For Quantile  0.9  - 0 :  15456   1:  2243  Misclassified :  14867\n"
     ]
    }
   ],
   "source": [
    "quantile_list = [0.1, 0.2, 0.3, 0.4, 0.5, 0.6, 0.7, 0.8, 0.9]\n",
    "count_0 = 0\n",
    "count_1 = 0\n",
    "for i in range(len(quantile_list)):\n",
    "    quantile = train_x.quantile(quantile_list[i])\n",
    "    count_0 = 0\n",
    "    count_1 = 0\n",
    "    misclassified = 0\n",
    "    for j in (list(train_x.index)):\n",
    "        if(train_x.at[j] <= quantile):\n",
    "            if(int(train_labels.at[j]) == 0):\n",
    "                count_0 += 1\n",
    "            else:\n",
    "                misclassified += 1\n",
    "        else:\n",
    "            if(int(train_labels.at[j]) == 1):\n",
    "                count_1 += 1\n",
    "            else:\n",
    "                misclassified += 1\n",
    "\n",
    "    print('For Quantile ', quantile_list[i], ' - 0 : ', count_0, '  1: ',count_1, ' Misclassified : ', misclassified)\n"
   ]
  },
  {
   "cell_type": "code",
   "execution_count": 16,
   "id": "29eb6712-48aa-46e6-a0e9-45a20f7a12fc",
   "metadata": {},
   "outputs": [],
   "source": [
    "quantile_length = train_x.quantile(0.6)\n",
    "\n",
    "from sklearn.metrics import classification_report\n",
    "\n",
    "true_labels = []\n",
    "predicted_labels = []\n",
    "\n",
    "for i in (list(test_x.index)):\n",
    "    true_labels.append(int(test_labels.at[i]))\n",
    "    if(test_x.at[i] <= quantile_length):\n",
    "        predicted_labels.append(0)\n",
    "    else:\n",
    "        predicted_labels.append(1)\n"
   ]
  },
  {
   "cell_type": "code",
   "execution_count": 17,
   "id": "f4d16c66-5187-4e6d-9754-4103ca37dd8a",
   "metadata": {},
   "outputs": [
    {
     "name": "stdout",
     "output_type": "stream",
     "text": [
      "              precision    recall  f1-score   support\n",
      "\n",
      "           0       0.59      0.71      0.64      4139\n",
      "           1       0.62      0.50      0.55      4003\n",
      "\n",
      "    accuracy                           0.60      8142\n",
      "   macro avg       0.61      0.60      0.60      8142\n",
      "weighted avg       0.61      0.60      0.60      8142\n",
      "\n"
     ]
    }
   ],
   "source": [
    "report = classification_report(true_labels, predicted_labels)\n",
    "print(report)"
   ]
  },
  {
   "cell_type": "code",
   "execution_count": 22,
   "id": "9c9a2333-c4e4-4da9-9217-7599b123b26f",
   "metadata": {},
   "outputs": [],
   "source": [
    "index_values = test_x.index.values.tolist()\n",
    "final_df = pd.DataFrame()\n",
    "misclassified_rows = []\n",
    "for i in range(len(index_values)):\n",
    "    if(true_labels[i] != predicted_labels[i]):\n",
    "        misclassified_rows.append(index_values[i])\n",
    "\n",
    "misclassified_df = df.loc[misclassified_rows]"
   ]
  },
  {
   "cell_type": "code",
   "execution_count": 23,
   "id": "b8ecf0c8-265e-46f5-b081-5cee93342a84",
   "metadata": {},
   "outputs": [
    {
     "data": {
      "text/plain": [
       "3238"
      ]
     },
     "execution_count": 23,
     "metadata": {},
     "output_type": "execute_result"
    }
   ],
   "source": [
    "len(misclassified_df)"
   ]
  },
  {
   "cell_type": "code",
   "execution_count": 24,
   "id": "ea786246-1cca-48b4-bf8a-7d8e0d83b704",
   "metadata": {},
   "outputs": [],
   "source": [
    "misclassified_df.to_csv('Rule_based_misclassified_rows.csv')"
   ]
  },
  {
   "cell_type": "code",
   "execution_count": 26,
   "id": "261ad676-84a8-4cbc-b1af-1c411d500835",
   "metadata": {},
   "outputs": [
    {
     "data": {
      "text/plain": [
       "5712     Been living here for four years and it’s been ...\n",
       "6946     Midtown Towers has recently gone under a chang...\n",
       "40426    As a first time renter, I've found this apartm...\n",
       "4859     I have lived @ The Marq for over a year and co...\n",
       "4009     If you want a nice quiet place to reside this ...\n",
       "Name: review, dtype: object"
      ]
     },
     "execution_count": 26,
     "metadata": {},
     "output_type": "execute_result"
    }
   ],
   "source": [
    "misclassified_df['review'].head()"
   ]
  },
  {
   "cell_type": "code",
   "execution_count": null,
   "id": "834d0ea1-13a9-427f-aab6-a4ed82c4ec86",
   "metadata": {},
   "outputs": [],
   "source": []
  }
 ],
 "metadata": {
  "kernelspec": {
   "display_name": "Python 3 (ipykernel)",
   "language": "python",
   "name": "python3"
  },
  "language_info": {
   "codemirror_mode": {
    "name": "ipython",
    "version": 3
   },
   "file_extension": ".py",
   "mimetype": "text/x-python",
   "name": "python",
   "nbconvert_exporter": "python",
   "pygments_lexer": "ipython3",
   "version": "3.10.16"
  }
 },
 "nbformat": 4,
 "nbformat_minor": 5
}
