{
 "cells": [
  {
   "cell_type": "code",
   "execution_count": 1,
   "id": "a9f59bb5-3dc2-4662-ae06-c49e0de0ee84",
   "metadata": {},
   "outputs": [],
   "source": [
    "import pandas as pd"
   ]
  },
  {
   "cell_type": "code",
   "execution_count": 2,
   "id": "e93b6c78-80ab-4c1b-b0f7-b738729aecae",
   "metadata": {},
   "outputs": [],
   "source": [
    "df = pd.read_csv('scored_helpfulness_data.csv')"
   ]
  },
  {
   "cell_type": "code",
   "execution_count": 3,
   "id": "dc0577ca-8b40-4139-927c-020814a2dc46",
   "metadata": {},
   "outputs": [
    {
     "data": {
      "text/plain": [
       "0"
      ]
     },
     "execution_count": 3,
     "metadata": {},
     "output_type": "execute_result"
    }
   ],
   "source": [
    "df['apartmentName'].isna().sum()"
   ]
  },
  {
   "cell_type": "code",
   "execution_count": 4,
   "id": "a7433172-d0db-4f92-966e-03b4ae1a74f0",
   "metadata": {},
   "outputs": [
    {
     "data": {
      "text/html": [
       "<div>\n",
       "<style scoped>\n",
       "    .dataframe tbody tr th:only-of-type {\n",
       "        vertical-align: middle;\n",
       "    }\n",
       "\n",
       "    .dataframe tbody tr th {\n",
       "        vertical-align: top;\n",
       "    }\n",
       "\n",
       "    .dataframe thead th {\n",
       "        text-align: right;\n",
       "    }\n",
       "</style>\n",
       "<table border=\"1\" class=\"dataframe\">\n",
       "  <thead>\n",
       "    <tr style=\"text-align: right;\">\n",
       "      <th></th>\n",
       "      <th>Unnamed: 0</th>\n",
       "      <th>apartmentName</th>\n",
       "      <th>url</th>\n",
       "      <th>rating</th>\n",
       "      <th>review</th>\n",
       "      <th>zip</th>\n",
       "      <th>propertyManager</th>\n",
       "      <th>minRent</th>\n",
       "      <th>maxRent</th>\n",
       "      <th>minSqft</th>\n",
       "      <th>maxSqft</th>\n",
       "      <th>avgRating</th>\n",
       "      <th>helpfulness</th>\n",
       "      <th>days_since_review</th>\n",
       "      <th>state</th>\n",
       "      <th>city</th>\n",
       "      <th>calculated_score</th>\n",
       "    </tr>\n",
       "  </thead>\n",
       "  <tbody>\n",
       "    <tr>\n",
       "      <th>0</th>\n",
       "      <td>0</td>\n",
       "      <td>Union 505</td>\n",
       "      <td>https://www.apartments.com/union-505-albuquerq...</td>\n",
       "      <td>5.0</td>\n",
       "      <td>A very welcoming community, convenient locatio...</td>\n",
       "      <td>NM 87102</td>\n",
       "      <td>https://www.apartments.com/pmc/greystar/dv0gtnl/</td>\n",
       "      <td>850</td>\n",
       "      <td>2662</td>\n",
       "      <td>324.0</td>\n",
       "      <td>755.0</td>\n",
       "      <td>4.0</td>\n",
       "      <td>0</td>\n",
       "      <td>67.0</td>\n",
       "      <td>NM</td>\n",
       "      <td>ALBUQUERQUE</td>\n",
       "      <td>0.0</td>\n",
       "    </tr>\n",
       "    <tr>\n",
       "      <th>1</th>\n",
       "      <td>1</td>\n",
       "      <td>Union 505</td>\n",
       "      <td>https://www.apartments.com/union-505-albuquerq...</td>\n",
       "      <td>3.0</td>\n",
       "      <td>Union 505 is in a great location for Albuquerq...</td>\n",
       "      <td>NM 87102</td>\n",
       "      <td>https://www.apartments.com/pmc/greystar/dv0gtnl/</td>\n",
       "      <td>850</td>\n",
       "      <td>2662</td>\n",
       "      <td>324.0</td>\n",
       "      <td>755.0</td>\n",
       "      <td>4.0</td>\n",
       "      <td>0</td>\n",
       "      <td>71.0</td>\n",
       "      <td>NM</td>\n",
       "      <td>ALBUQUERQUE</td>\n",
       "      <td>0.0</td>\n",
       "    </tr>\n",
       "    <tr>\n",
       "      <th>2</th>\n",
       "      <td>2</td>\n",
       "      <td>Union 505</td>\n",
       "      <td>https://www.apartments.com/union-505-albuquerq...</td>\n",
       "      <td>4.0</td>\n",
       "      <td>My Experience here at union505 is good only th...</td>\n",
       "      <td>NM 87102</td>\n",
       "      <td>https://www.apartments.com/pmc/greystar/dv0gtnl/</td>\n",
       "      <td>850</td>\n",
       "      <td>2662</td>\n",
       "      <td>324.0</td>\n",
       "      <td>755.0</td>\n",
       "      <td>4.0</td>\n",
       "      <td>2</td>\n",
       "      <td>124.0</td>\n",
       "      <td>NM</td>\n",
       "      <td>ALBUQUERQUE</td>\n",
       "      <td>1.0</td>\n",
       "    </tr>\n",
       "    <tr>\n",
       "      <th>3</th>\n",
       "      <td>3</td>\n",
       "      <td>Union 505</td>\n",
       "      <td>https://www.apartments.com/union-505-albuquerq...</td>\n",
       "      <td>4.0</td>\n",
       "      <td>I love the apartment. Its very cozy and straig...</td>\n",
       "      <td>NM 87102</td>\n",
       "      <td>https://www.apartments.com/pmc/greystar/dv0gtnl/</td>\n",
       "      <td>850</td>\n",
       "      <td>2662</td>\n",
       "      <td>324.0</td>\n",
       "      <td>755.0</td>\n",
       "      <td>4.0</td>\n",
       "      <td>2</td>\n",
       "      <td>129.0</td>\n",
       "      <td>NM</td>\n",
       "      <td>ALBUQUERQUE</td>\n",
       "      <td>1.0</td>\n",
       "    </tr>\n",
       "    <tr>\n",
       "      <th>4</th>\n",
       "      <td>4</td>\n",
       "      <td>Union 505</td>\n",
       "      <td>https://www.apartments.com/union-505-albuquerq...</td>\n",
       "      <td>4.0</td>\n",
       "      <td>The apartments are very spacious. The leasing ...</td>\n",
       "      <td>NM 87102</td>\n",
       "      <td>https://www.apartments.com/pmc/greystar/dv0gtnl/</td>\n",
       "      <td>850</td>\n",
       "      <td>2662</td>\n",
       "      <td>324.0</td>\n",
       "      <td>755.0</td>\n",
       "      <td>4.0</td>\n",
       "      <td>2</td>\n",
       "      <td>132.0</td>\n",
       "      <td>NM</td>\n",
       "      <td>ALBUQUERQUE</td>\n",
       "      <td>1.0</td>\n",
       "    </tr>\n",
       "  </tbody>\n",
       "</table>\n",
       "</div>"
      ],
      "text/plain": [
       "   Unnamed: 0 apartmentName  \\\n",
       "0           0     Union 505   \n",
       "1           1     Union 505   \n",
       "2           2     Union 505   \n",
       "3           3     Union 505   \n",
       "4           4     Union 505   \n",
       "\n",
       "                                                 url  rating  \\\n",
       "0  https://www.apartments.com/union-505-albuquerq...     5.0   \n",
       "1  https://www.apartments.com/union-505-albuquerq...     3.0   \n",
       "2  https://www.apartments.com/union-505-albuquerq...     4.0   \n",
       "3  https://www.apartments.com/union-505-albuquerq...     4.0   \n",
       "4  https://www.apartments.com/union-505-albuquerq...     4.0   \n",
       "\n",
       "                                              review       zip  \\\n",
       "0  A very welcoming community, convenient locatio...  NM 87102   \n",
       "1  Union 505 is in a great location for Albuquerq...  NM 87102   \n",
       "2  My Experience here at union505 is good only th...  NM 87102   \n",
       "3  I love the apartment. Its very cozy and straig...  NM 87102   \n",
       "4  The apartments are very spacious. The leasing ...  NM 87102   \n",
       "\n",
       "                                    propertyManager minRent maxRent  minSqft  \\\n",
       "0  https://www.apartments.com/pmc/greystar/dv0gtnl/     850    2662    324.0   \n",
       "1  https://www.apartments.com/pmc/greystar/dv0gtnl/     850    2662    324.0   \n",
       "2  https://www.apartments.com/pmc/greystar/dv0gtnl/     850    2662    324.0   \n",
       "3  https://www.apartments.com/pmc/greystar/dv0gtnl/     850    2662    324.0   \n",
       "4  https://www.apartments.com/pmc/greystar/dv0gtnl/     850    2662    324.0   \n",
       "\n",
       "   maxSqft  avgRating  helpfulness  days_since_review state         city  \\\n",
       "0    755.0        4.0            0               67.0    NM  ALBUQUERQUE   \n",
       "1    755.0        4.0            0               71.0    NM  ALBUQUERQUE   \n",
       "2    755.0        4.0            2              124.0    NM  ALBUQUERQUE   \n",
       "3    755.0        4.0            2              129.0    NM  ALBUQUERQUE   \n",
       "4    755.0        4.0            2              132.0    NM  ALBUQUERQUE   \n",
       "\n",
       "   calculated_score  \n",
       "0               0.0  \n",
       "1               0.0  \n",
       "2               1.0  \n",
       "3               1.0  \n",
       "4               1.0  "
      ]
     },
     "execution_count": 4,
     "metadata": {},
     "output_type": "execute_result"
    }
   ],
   "source": [
    "df.head()"
   ]
  },
  {
   "cell_type": "code",
   "execution_count": 5,
   "id": "76f99105-49eb-4f6e-9877-063536da1e23",
   "metadata": {},
   "outputs": [
    {
     "data": {
      "text/plain": [
       "0.5178915074030669"
      ]
     },
     "execution_count": 5,
     "metadata": {},
     "output_type": "execute_result"
    }
   ],
   "source": [
    "df['calculated_score'].mean()"
   ]
  },
  {
   "cell_type": "code",
   "execution_count": 6,
   "id": "36bdae04-c2a5-498b-b678-e82f083828d3",
   "metadata": {},
   "outputs": [
    {
     "data": {
      "text/plain": [
       "8705"
      ]
     },
     "execution_count": 6,
     "metadata": {},
     "output_type": "execute_result"
    }
   ],
   "source": [
    "df['calculated_score'].isna().sum()"
   ]
  },
  {
   "cell_type": "code",
   "execution_count": 7,
   "id": "8cfccb1b-7cdb-48e2-8e63-880d81f8d85e",
   "metadata": {},
   "outputs": [],
   "source": [
    "df.dropna(subset= ['calculated_score'], inplace = True)"
   ]
  },
  {
   "cell_type": "code",
   "execution_count": 8,
   "id": "801e6cef-a801-4a77-9eae-1dbae993b618",
   "metadata": {},
   "outputs": [
    {
     "data": {
      "text/plain": [
       "40708"
      ]
     },
     "execution_count": 8,
     "metadata": {},
     "output_type": "execute_result"
    }
   ],
   "source": [
    "len(df)"
   ]
  },
  {
   "cell_type": "code",
   "execution_count": 9,
   "id": "bd9414d2-b7fd-442b-9d2d-411d9c7bde2e",
   "metadata": {},
   "outputs": [],
   "source": [
    "df = df.drop(['Unnamed: 0'], axis=1)"
   ]
  },
  {
   "cell_type": "code",
   "execution_count": 10,
   "id": "37bf4215-439e-406d-b227-436359ed0705",
   "metadata": {},
   "outputs": [],
   "source": [
    "import matplotlib.pyplot as plt"
   ]
  },
  {
   "cell_type": "code",
   "execution_count": 11,
   "id": "227d031e-d6b6-41f4-b3f2-b1594417ca5a",
   "metadata": {},
   "outputs": [
    {
     "data": {
      "text/plain": [
       "<Axes: ylabel='Frequency'>"
      ]
     },
     "execution_count": 11,
     "metadata": {},
     "output_type": "execute_result"
    },
    {
     "data": {
      "image/png": "[encoded data removed]",
      "text/plain": [
       "<Figure size 640x480 with 1 Axes>"
      ]
     },
     "metadata": {},
     "output_type": "display_data"
    }
   ],
   "source": [
    "bins1 = [0, 0.33, 0.66, 1.0]\n",
    "df['calculated_score'].plot.hist(bins = bins1, color='green', edgecolor='black')"
   ]
  },
  {
   "cell_type": "code",
   "execution_count": 12,
   "id": "d9db3308-7f7b-4901-8fbd-67e594298dd5",
   "metadata": {},
   "outputs": [
    {
     "data": {
      "text/plain": [
       "<Axes: ylabel='Frequency'>"
      ]
     },
     "execution_count": 12,
     "metadata": {},
     "output_type": "execute_result"
    },
    {
     "data": {
      "image/png": "[encoded data removed]",
      "text/plain": [
       "<Figure size 640x480 with 1 Axes>"
      ]
     },
     "metadata": {},
     "output_type": "display_data"
    }
   ],
   "source": [
    "bins1 = [0, 0.25, 0.75, 1.0]\n",
    "df['calculated_score'].plot.hist(bins = bins1, color='red', edgecolor='black')"
   ]
  },
  {
   "cell_type": "code",
   "execution_count": 13,
   "id": "faa33f86-f5aa-4b56-8656-9f1f018aa5bd",
   "metadata": {},
   "outputs": [
    {
     "data": {
      "text/plain": [
       "<Axes: ylabel='Frequency'>"
      ]
     },
     "execution_count": 13,
     "metadata": {},
     "output_type": "execute_result"
    },
    {
     "data": {
      "image/png": "[encoded data removed]",
      "text/plain": [
       "<Figure size 640x480 with 1 Axes>"
      ]
     },
     "metadata": {},
     "output_type": "display_data"
    }
   ],
   "source": [
    "bins3 = [0, 0.15, 0.85, 1.0]\n",
    "df['calculated_score'].plot.hist(bins = bins3, color='blue', edgecolor='black')"
   ]
  },
  {
   "cell_type": "code",
   "execution_count": 14,
   "id": "8ea6365e-afc6-4d68-85d1-accc2e3743b3",
   "metadata": {},
   "outputs": [
    {
     "data": {
      "text/plain": [
       "<Axes: ylabel='Frequency'>"
      ]
     },
     "execution_count": 14,
     "metadata": {},
     "output_type": "execute_result"
    },
    {
     "data": {
      "image/png": "[encoded data removed]",
      "text/plain": [
       "<Figure size 640x480 with 1 Axes>"
      ]
     },
     "metadata": {},
     "output_type": "display_data"
    }
   ],
   "source": [
    "bins4 = [0, 0.2, 0.8, 1.0]\n",
    "df['calculated_score'].plot.hist(bins = bins4, color='green', edgecolor='black')"
   ]
  },
  {
   "cell_type": "code",
   "execution_count": 15,
   "id": "c5ac53ae-17b5-4f43-8ad5-0df5d3d68b7e",
   "metadata": {},
   "outputs": [],
   "source": [
    "from sklearn.cluster import KMeans"
   ]
  },
  {
   "cell_type": "code",
   "execution_count": 16,
   "id": "d4471923-8e95-43db-bf75-9ae4bbd8b423",
   "metadata": {},
   "outputs": [],
   "source": [
    "n_clusters = 3\n",
    "kmeans = KMeans(n_clusters, random_state=0)\n",
    "df['kmeans_label'] = kmeans.fit_predict(df[['calculated_score']])"
   ]
  },
  {
   "cell_type": "code",
   "execution_count": 17,
   "id": "5d889d64-b642-4f30-8f28-20e5539e5e85",
   "metadata": {},
   "outputs": [
    {
     "data": {
      "text/plain": [
       "<BarContainer object of 3 artists>"
      ]
     },
     "execution_count": 17,
     "metadata": {},
     "output_type": "execute_result"
    },
    {
     "data": {
      "image/png": "[encoded data removed]",
      "text/plain": [
       "<Figure size 640x480 with 1 Axes>"
      ]
     },
     "metadata": {},
     "output_type": "display_data"
    }
   ],
   "source": [
    "from collections import Counter\n",
    "cntr = Counter(df['kmeans_label'])\n",
    "plt.bar(cntr.keys(),cntr.values())"
   ]
  },
  {
   "cell_type": "code",
   "execution_count": 18,
   "id": "18c05340-3f8e-4097-bc7d-08a685d5bb34",
   "metadata": {},
   "outputs": [
    {
     "data": {
      "text/html": [
       "<div>\n",
       "<style scoped>\n",
       "    .dataframe tbody tr th:only-of-type {\n",
       "        vertical-align: middle;\n",
       "    }\n",
       "\n",
       "    .dataframe tbody tr th {\n",
       "        vertical-align: top;\n",
       "    }\n",
       "\n",
       "    .dataframe thead th {\n",
       "        text-align: right;\n",
       "    }\n",
       "</style>\n",
       "<table border=\"1\" class=\"dataframe\">\n",
       "  <thead>\n",
       "    <tr style=\"text-align: right;\">\n",
       "      <th></th>\n",
       "      <th>apartmentName</th>\n",
       "      <th>url</th>\n",
       "      <th>rating</th>\n",
       "      <th>review</th>\n",
       "      <th>zip</th>\n",
       "      <th>propertyManager</th>\n",
       "      <th>minRent</th>\n",
       "      <th>maxRent</th>\n",
       "      <th>minSqft</th>\n",
       "      <th>maxSqft</th>\n",
       "      <th>avgRating</th>\n",
       "      <th>helpfulness</th>\n",
       "      <th>days_since_review</th>\n",
       "      <th>state</th>\n",
       "      <th>city</th>\n",
       "      <th>calculated_score</th>\n",
       "      <th>kmeans_label</th>\n",
       "    </tr>\n",
       "  </thead>\n",
       "  <tbody>\n",
       "    <tr>\n",
       "      <th>0</th>\n",
       "      <td>Union 505</td>\n",
       "      <td>https://www.apartments.com/union-505-albuquerq...</td>\n",
       "      <td>5.0</td>\n",
       "      <td>A very welcoming community, convenient locatio...</td>\n",
       "      <td>NM 87102</td>\n",
       "      <td>https://www.apartments.com/pmc/greystar/dv0gtnl/</td>\n",
       "      <td>850</td>\n",
       "      <td>2662</td>\n",
       "      <td>324.0</td>\n",
       "      <td>755.0</td>\n",
       "      <td>4.0</td>\n",
       "      <td>0</td>\n",
       "      <td>67.0</td>\n",
       "      <td>NM</td>\n",
       "      <td>ALBUQUERQUE</td>\n",
       "      <td>0.0</td>\n",
       "      <td>0</td>\n",
       "    </tr>\n",
       "    <tr>\n",
       "      <th>1</th>\n",
       "      <td>Union 505</td>\n",
       "      <td>https://www.apartments.com/union-505-albuquerq...</td>\n",
       "      <td>3.0</td>\n",
       "      <td>Union 505 is in a great location for Albuquerq...</td>\n",
       "      <td>NM 87102</td>\n",
       "      <td>https://www.apartments.com/pmc/greystar/dv0gtnl/</td>\n",
       "      <td>850</td>\n",
       "      <td>2662</td>\n",
       "      <td>324.0</td>\n",
       "      <td>755.0</td>\n",
       "      <td>4.0</td>\n",
       "      <td>0</td>\n",
       "      <td>71.0</td>\n",
       "      <td>NM</td>\n",
       "      <td>ALBUQUERQUE</td>\n",
       "      <td>0.0</td>\n",
       "      <td>0</td>\n",
       "    </tr>\n",
       "    <tr>\n",
       "      <th>2</th>\n",
       "      <td>Union 505</td>\n",
       "      <td>https://www.apartments.com/union-505-albuquerq...</td>\n",
       "      <td>4.0</td>\n",
       "      <td>My Experience here at union505 is good only th...</td>\n",
       "      <td>NM 87102</td>\n",
       "      <td>https://www.apartments.com/pmc/greystar/dv0gtnl/</td>\n",
       "      <td>850</td>\n",
       "      <td>2662</td>\n",
       "      <td>324.0</td>\n",
       "      <td>755.0</td>\n",
       "      <td>4.0</td>\n",
       "      <td>2</td>\n",
       "      <td>124.0</td>\n",
       "      <td>NM</td>\n",
       "      <td>ALBUQUERQUE</td>\n",
       "      <td>1.0</td>\n",
       "      <td>2</td>\n",
       "    </tr>\n",
       "    <tr>\n",
       "      <th>3</th>\n",
       "      <td>Union 505</td>\n",
       "      <td>https://www.apartments.com/union-505-albuquerq...</td>\n",
       "      <td>4.0</td>\n",
       "      <td>I love the apartment. Its very cozy and straig...</td>\n",
       "      <td>NM 87102</td>\n",
       "      <td>https://www.apartments.com/pmc/greystar/dv0gtnl/</td>\n",
       "      <td>850</td>\n",
       "      <td>2662</td>\n",
       "      <td>324.0</td>\n",
       "      <td>755.0</td>\n",
       "      <td>4.0</td>\n",
       "      <td>2</td>\n",
       "      <td>129.0</td>\n",
       "      <td>NM</td>\n",
       "      <td>ALBUQUERQUE</td>\n",
       "      <td>1.0</td>\n",
       "      <td>2</td>\n",
       "    </tr>\n",
       "    <tr>\n",
       "      <th>4</th>\n",
       "      <td>Union 505</td>\n",
       "      <td>https://www.apartments.com/union-505-albuquerq...</td>\n",
       "      <td>4.0</td>\n",
       "      <td>The apartments are very spacious. The leasing ...</td>\n",
       "      <td>NM 87102</td>\n",
       "      <td>https://www.apartments.com/pmc/greystar/dv0gtnl/</td>\n",
       "      <td>850</td>\n",
       "      <td>2662</td>\n",
       "      <td>324.0</td>\n",
       "      <td>755.0</td>\n",
       "      <td>4.0</td>\n",
       "      <td>2</td>\n",
       "      <td>132.0</td>\n",
       "      <td>NM</td>\n",
       "      <td>ALBUQUERQUE</td>\n",
       "      <td>1.0</td>\n",
       "      <td>2</td>\n",
       "    </tr>\n",
       "  </tbody>\n",
       "</table>\n",
       "</div>"
      ],
      "text/plain": [
       "  apartmentName                                                url  rating  \\\n",
       "0     Union 505  https://www.apartments.com/union-505-albuquerq...     5.0   \n",
       "1     Union 505  https://www.apartments.com/union-505-albuquerq...     3.0   \n",
       "2     Union 505  https://www.apartments.com/union-505-albuquerq...     4.0   \n",
       "3     Union 505  https://www.apartments.com/union-505-albuquerq...     4.0   \n",
       "4     Union 505  https://www.apartments.com/union-505-albuquerq...     4.0   \n",
       "\n",
       "                                              review       zip  \\\n",
       "0  A very welcoming community, convenient locatio...  NM 87102   \n",
       "1  Union 505 is in a great location for Albuquerq...  NM 87102   \n",
       "2  My Experience here at union505 is good only th...  NM 87102   \n",
       "3  I love the apartment. Its very cozy and straig...  NM 87102   \n",
       "4  The apartments are very spacious. The leasing ...  NM 87102   \n",
       "\n",
       "                                    propertyManager minRent maxRent  minSqft  \\\n",
       "0  https://www.apartments.com/pmc/greystar/dv0gtnl/     850    2662    324.0   \n",
       "1  https://www.apartments.com/pmc/greystar/dv0gtnl/     850    2662    324.0   \n",
       "2  https://www.apartments.com/pmc/greystar/dv0gtnl/     850    2662    324.0   \n",
       "3  https://www.apartments.com/pmc/greystar/dv0gtnl/     850    2662    324.0   \n",
       "4  https://www.apartments.com/pmc/greystar/dv0gtnl/     850    2662    324.0   \n",
       "\n",
       "   maxSqft  avgRating  helpfulness  days_since_review state         city  \\\n",
       "0    755.0        4.0            0               67.0    NM  ALBUQUERQUE   \n",
       "1    755.0        4.0            0               71.0    NM  ALBUQUERQUE   \n",
       "2    755.0        4.0            2              124.0    NM  ALBUQUERQUE   \n",
       "3    755.0        4.0            2              129.0    NM  ALBUQUERQUE   \n",
       "4    755.0        4.0            2              132.0    NM  ALBUQUERQUE   \n",
       "\n",
       "   calculated_score  kmeans_label  \n",
       "0               0.0             0  \n",
       "1               0.0             0  \n",
       "2               1.0             2  \n",
       "3               1.0             2  \n",
       "4               1.0             2  "
      ]
     },
     "execution_count": 18,
     "metadata": {},
     "output_type": "execute_result"
    }
   ],
   "source": [
    "df.head()"
   ]
  },
  {
   "cell_type": "code",
   "execution_count": 19,
   "id": "8fe7c22a-c679-4c37-b5b2-aade028cd64c",
   "metadata": {},
   "outputs": [],
   "source": [
    "df.to_csv('kmeans_labeled_helpfulness_data_final.csv')"
   ]
  },
  {
   "cell_type": "code",
   "execution_count": 16,
   "id": "90499829-dbaf-4c68-b274-e00d0a9d5846",
   "metadata": {},
   "outputs": [],
   "source": [
    "n_clusters = 2\n",
    "kmeans = KMeans(n_clusters, random_state=0)\n",
    "df['kmeans_label'] = kmeans.fit_predict(df[['calculated_score']])"
   ]
  },
  {
   "cell_type": "code",
   "execution_count": 17,
   "id": "9c1bde36-f1e0-41b6-bcc7-2b1b07786871",
   "metadata": {},
   "outputs": [
    {
     "data": {
      "text/plain": [
       "<BarContainer object of 2 artists>"
      ]
     },
     "execution_count": 17,
     "metadata": {},
     "output_type": "execute_result"
    },
    {
     "data": {
      "image/png": "[encoded data removed]",
      "text/plain": [
       "<Figure size 640x480 with 1 Axes>"
      ]
     },
     "metadata": {},
     "output_type": "display_data"
    }
   ],
   "source": [
    "from collections import Counter\n",
    "cntr = Counter(df['kmeans_label'])\n",
    "plt.bar(cntr.keys(),cntr.values())"
   ]
  },
  {
   "cell_type": "code",
   "execution_count": 18,
   "id": "0af74239-b148-4b38-b137-bdea34c2b417",
   "metadata": {},
   "outputs": [],
   "source": [
    "df.to_csv('kmeans_binary_labeled_helpfulness_data_final.csv')"
   ]
  },
  {
   "cell_type": "code",
   "execution_count": null,
   "id": "d2eb8e5a-758b-49bd-8fbc-2c5c363cb2f3",
   "metadata": {},
   "outputs": [],
   "source": []
  }
 ],
 "metadata": {
  "kernelspec": {
   "display_name": "Python 3 (ipykernel)",
   "language": "python",
   "name": "python3"
  },
  "language_info": {
   "codemirror_mode": {
    "name": "ipython",
    "version": 3
   },
   "file_extension": ".py",
   "mimetype": "text/x-python",
   "name": "python",
   "nbconvert_exporter": "python",
   "pygments_lexer": "ipython3",
   "version": "3.10.16"
  }
 },
 "nbformat": 4,
 "nbformat_minor": 5
}
